{
 "cells": [
  {
   "cell_type": "code",
   "execution_count": 40,
   "metadata": {},
   "outputs": [
    {
     "name": "stdout",
     "output_type": "stream",
     "text": [
      "True price:  10.450583572185565\n",
      "MC price:  9.465998372113056\n",
      "Antithetic MC price:  10.516590213859356\n"
     ]
    }
   ],
   "source": [
    "from option_class import Option\n",
    "\n",
    "\n",
    "S = 100\n",
    "K = 100\n",
    "r = 0.05\n",
    "T = 1\n",
    "sigma = 0.2\n",
    "option_type = 'call' \n",
    "\n",
    "option = Option(S, K, T, r, sigma, option_type)\n",
    "\n",
    "true_price = option.black_scholes()\n",
    "mc_price, _ = option.monte_carlo(num_paths=1000, num_steps=100)\n",
    "antithetic_price, _ = option.antithetic_monte_carlo(num_paths=1000, num_steps=100)\n",
    "\n",
    "print('True price: ', true_price)\n",
    "print('MC price: ', mc_price)\n",
    "print('Antithetic MC price: ', antithetic_price)"
   ]
  },
  {
   "cell_type": "code",
   "execution_count": 41,
   "metadata": {},
   "outputs": [
    {
     "data": {
      "text/html": [
       "<div>\n",
       "<style scoped>\n",
       "    .dataframe tbody tr th:only-of-type {\n",
       "        vertical-align: middle;\n",
       "    }\n",
       "\n",
       "    .dataframe tbody tr th {\n",
       "        vertical-align: top;\n",
       "    }\n",
       "\n",
       "    .dataframe thead th {\n",
       "        text-align: right;\n",
       "    }\n",
       "</style>\n",
       "<table border=\"1\" class=\"dataframe\">\n",
       "  <thead>\n",
       "    <tr style=\"text-align: right;\">\n",
       "      <th></th>\n",
       "      <th>Black-Scholes</th>\n",
       "      <th>Monte Carlo</th>\n",
       "      <th>Antithetic Monte Carlo</th>\n",
       "      <th>Binomial Tree</th>\n",
       "      <th>Trinomial Tree</th>\n",
       "    </tr>\n",
       "  </thead>\n",
       "  <tbody>\n",
       "    <tr>\n",
       "      <th>Price</th>\n",
       "      <td>10.450584</td>\n",
       "      <td>11.076686</td>\n",
       "      <td>10.013224</td>\n",
       "      <td>10.430612</td>\n",
       "      <td>13.214355</td>\n",
       "    </tr>\n",
       "    <tr>\n",
       "      <th>Time</th>\n",
       "      <td>0.000000</td>\n",
       "      <td>0.084082</td>\n",
       "      <td>0.117470</td>\n",
       "      <td>0.006625</td>\n",
       "      <td>0.000285</td>\n",
       "    </tr>\n",
       "  </tbody>\n",
       "</table>\n",
       "</div>"
      ],
      "text/plain": [
       "       Black-Scholes  Monte Carlo  Antithetic Monte Carlo  Binomial Tree  \\\n",
       "Price      10.450584    11.076686               10.013224      10.430612   \n",
       "Time        0.000000     0.084082                0.117470       0.006625   \n",
       "\n",
       "       Trinomial Tree  \n",
       "Price       13.214355  \n",
       "Time         0.000285  "
      ]
     },
     "execution_count": 41,
     "metadata": {},
     "output_type": "execute_result"
    }
   ],
   "source": [
    "from utils import Comparison\n",
    "\n",
    "\n",
    "comparison = Comparison()\n",
    "\n",
    "results = comparison.methods_comparison(option, num_paths=1000, num_steps=100)\n",
    "\n",
    "results"
   ]
  },
  {
   "cell_type": "code",
   "execution_count": 42,
   "metadata": {},
   "outputs": [
    {
     "data": {
      "text/plain": [
       "<Axes: ylabel='Price'>"
      ]
     },
     "execution_count": 42,
     "metadata": {},
     "output_type": "execute_result"
    },
    {
     "data": {
      "image/png": "[encoded data removed]",
      "text/plain": [
       "<Figure size 1000x600 with 1 Axes>"
      ]
     },
     "metadata": {},
     "output_type": "display_data"
    }
   ],
   "source": [
    "import seaborn as sns\n",
    "import matplotlib.pyplot as plt\n",
    "\n",
    "plt.figure(figsize=(10, 6))\n",
    "sns.scatterplot(results.loc['Price'])"
   ]
  },
  {
   "cell_type": "code",
   "execution_count": 43,
   "metadata": {},
   "outputs": [
    {
     "data": {
      "text/html": [
       "<div>\n",
       "<style scoped>\n",
       "    .dataframe tbody tr th:only-of-type {\n",
       "        vertical-align: middle;\n",
       "    }\n",
       "\n",
       "    .dataframe tbody tr th {\n",
       "        vertical-align: top;\n",
       "    }\n",
       "\n",
       "    .dataframe thead th {\n",
       "        text-align: right;\n",
       "    }\n",
       "</style>\n",
       "<table border=\"1\" class=\"dataframe\">\n",
       "  <thead>\n",
       "    <tr style=\"text-align: right;\">\n",
       "      <th></th>\n",
       "      <th>Delta</th>\n",
       "      <th>Gamma</th>\n",
       "      <th>Vega</th>\n",
       "      <th>Theta</th>\n",
       "      <th>Rho</th>\n",
       "    </tr>\n",
       "  </thead>\n",
       "  <tbody>\n",
       "    <tr>\n",
       "      <th>Value</th>\n",
       "      <td>0.872939</td>\n",
       "      <td>0.046558</td>\n",
       "      <td>4.655808</td>\n",
       "      <td>-84.409459</td>\n",
       "      <td>4.106406</td>\n",
       "    </tr>\n",
       "  </tbody>\n",
       "</table>\n",
       "</div>"
      ],
      "text/plain": [
       "          Delta     Gamma      Vega      Theta       Rho\n",
       "Value  0.872939  0.046558  4.655808 -84.409459  4.106406"
      ]
     },
     "execution_count": 43,
     "metadata": {},
     "output_type": "execute_result"
    }
   ],
   "source": [
    "from pricing.greeks_calc import GREEKS\n",
    "\n",
    "greek = GREEKS(S, K, r, T, sigma, option_type)\n",
    "greeks = greek.calculate_greeks()\n",
    "\n",
    "greeks"
   ]
  },
  {
   "cell_type": "code",
   "execution_count": 44,
   "metadata": {},
   "outputs": [
    {
     "data": {
      "text/plain": [
       "0.1978518673668909"
      ]
     },
     "execution_count": 44,
     "metadata": {},
     "output_type": "execute_result"
    }
   ],
   "source": [
    "from implied_volatility import implied_volatility\n",
    "\n",
    "iv = implied_volatility(option, 10.37)\n",
    "\n",
    "iv"
   ]
  },
  {
   "cell_type": "code",
   "execution_count": null,
   "metadata": {},
   "outputs": [],
   "source": [
    "from option_class import Option\n",
    "import time\n",
    "import pandas as pd\n",
    "import numpy as np\n",
    "from multiprocessing import Pool\n",
    "\n",
    "\n",
    "def calculate_monte_carlo_price(args):\n",
    "    # Now only unpack 7 values from args\n",
    "    S, K, T, r, sigma, num_paths, num_steps, option_type = args\n",
    "    option = Option(S, K, T, r, sigma, option_type)\n",
    "    true_price = option.black_scholes()\n",
    "    mc_price, _ = option.monte_carlo(num_paths, num_steps)\n",
    "    return mc_price, abs(mc_price - true_price)\n",
    "\n",
    "def calculate_binomial_tree_price(args):\n",
    "    S, K, T, r, sigma, num_steps, option_type = args\n",
    "    option = Option(S, K, T, r, sigma, option_type)\n",
    "    true_price = option.black_scholes()\n",
    "    bt_price = option.binomial_tree(num_steps)\n",
    "    return bt_price, abs(bt_price - true_price)\n",
    "\n",
    "def calculate_trinomial_tree_price(args):\n",
    "    S, K, T, r, sigma, num_steps, option_type = args\n",
    "    option = Option(S, K, T, r, sigma, option_type)\n",
    "    true_price = option.black_scholes()\n",
    "    tt_price = option.trinomial_tree(num_steps)\n",
    "    return tt_price, abs(tt_price - true_price)\n",
    "\n",
    "\n",
    "\n",
    "class Comparison:\n",
    "  \n",
    "    def __init__(self):\n",
    "        pass\n",
    "        \n",
    "    def methods_comparison(self, option, num_paths, num_steps):\n",
    "    \n",
    "        \"\"\"\n",
    "        Compare the prices and times of the Black-Scholes, Monte Carlo, Binomial Tree, and Trinomial Tree methods for European options.\n",
    "\n",
    "        Parameters:\n",
    "        S : float\n",
    "            Current stock price.\n",
    "        K : float\n",
    "            Option strike price.\n",
    "        T : float\n",
    "            Time to expiration in years.\n",
    "        r : float\n",
    "            Risk-free interest rate.\n",
    "        sigma : float\n",
    "            Volatility of the stock.\n",
    "        num_paths : int\n",
    "            Number of Monte Carlo paths to simulate.\n",
    "        num_steps : int\n",
    "            Number of time steps for each path.\n",
    "        option_type : str, optional\n",
    "            Type of the option, either 'call' or 'put'. Default is 'call'.\n",
    "\n",
    "        Returns:\n",
    "        tuple\n",
    "            A DataFrame containing the option prices and respective times for the Black-Scholes, Monte Carlo, Binomial Tree, and Trinomial Tree methods.\n",
    "        \"\"\"\n",
    "        \n",
    "        start = time.time()\n",
    "        bs_price = option.black_scholes()\n",
    "        bs_time = time.time() - start\n",
    "        \n",
    "        start = time.time()\n",
    "        mc_price, _ = option.monte_carlo(num_paths, num_steps)\n",
    "        mc_time = time.time() - start\n",
    "        \n",
    "        start = time.time()\n",
    "        antithetic_price, _ = option.antithetic_monte_carlo(num_paths, num_steps)\n",
    "        antithetic_time = time.time() - start\n",
    "        \n",
    "        start = time.time()\n",
    "        bt_price = option.binomial_tree(num_steps)\n",
    "        bt_time = time.time() - start\n",
    "        \n",
    "        start = time.time()\n",
    "        tt_price = option.trinomial_tree(num_steps)\n",
    "        tt_time = time.time() - start\n",
    "        \n",
    "        results = pd.DataFrame({'Black-Scholes': [bs_price, bs_time],\n",
    "                                'Monte Carlo': [mc_price, mc_time],\n",
    "                                'Antithetic Monte Carlo': [antithetic_price, antithetic_time],\n",
    "                                'Binomial Tree': [bt_price, bt_time],\n",
    "                                'Trinomial Tree': [tt_price, tt_time]},\n",
    "                            index=['Price', 'Time'])\n",
    "        \n",
    "        return results\n",
    "\n",
    "    def convergence_speed(self, option, num_paths, num_steps):\n",
    "        \"\"\"\n",
    "        Calculate the prices of European options using the Monte Carlo, Binomial Tree, and Trinomial Tree methods and\n",
    "        their respective errors compared to the Black-Scholes price.\n",
    "\n",
    "        Parameters:\n",
    "        option : Option\n",
    "            The option for which to calculate the prices.\n",
    "        num_paths : int\n",
    "            Number of paths for each Monte Carlo simulation.\n",
    "        num_steps : int\n",
    "            Number of time steps for each Binomial and Trinomial Tree simulation.\n",
    "\n",
    "        Returns:\n",
    "        tuple\n",
    "            A tuple containing two DataFrames: results and error. The results DataFrame contains the prices of the\n",
    "            option calculated using the Monte Carlo, Binomial Tree, and Trinomial Tree methods. The error DataFrame\n",
    "            contains the errors of the respective methods compared to the Black-Scholes price.\n",
    "        \"\"\"\n",
    "        results = pd.DataFrame(columns=['mc_price', 'bt_price', 'tt_price'],\n",
    "                            index=range(1, num_steps + 1))\n",
    "\n",
    "        error = pd.DataFrame(columns=['mc_error', 'bt_error', 'tt_error'],\n",
    "                            index=range(1, num_steps + 1))\n",
    "\n",
    "        steps = np.arange(1, num_steps + 1)\n",
    "\n",
    "        with Pool() as pool:\n",
    "            S, K, T, r, sigma, option_type = option.S, option.K, option.T, option.r, option.sigma, option.option_type\n",
    "\n",
    "            mc_args = [(S, K, T, r, sigma, num_paths, step, option_type) for step in steps]\n",
    "            mc_results = pool.map(calculate_monte_carlo_price, mc_args)\n",
    "            results['mc_price'] = [res[0] for res in mc_results]\n",
    "            error['mc_error'] = [res[1] for res in mc_results]\n",
    "\n",
    "            bt_args = [(S, K, T, r, sigma, step, option_type) for step in steps]\n",
    "            bt_results = pool.map(calculate_binomial_tree_price, bt_args)\n",
    "            results['bt_price'] = [res[0] for res in bt_results]\n",
    "            error['bt_error'] = [res[1] for res in bt_results]\n",
    "\n",
    "            tt_args = [(S, K, T, r, sigma, step, option_type) for step in steps]\n",
    "            tt_results = pool.map(calculate_trinomial_tree_price, tt_args)\n",
    "            results['tt_price'] = [res[0] for res in tt_results]\n",
    "            error['tt_error'] = [res[1] for res in tt_results]\n",
    "\n",
    "        return results, error\n",
    "\n",
    "\n",
    "if __name__ == '__main__':\n",
    "    option = Option(100, 100, 1, 0.05, 0.2, 'call')\n",
    "    results, error = Comparison().convergence_speed(option, num_paths=1000, num_steps=100)\n",
    "    print(results)"
   ]
  },
  {
   "cell_type": "code",
   "execution_count": 12,
   "metadata": {},
   "outputs": [
    {
     "name": "stderr",
     "output_type": "stream",
     "text": [
      "C:\\Users\\wassim\\AppData\\Local\\Temp\\ipykernel_8080\\140498871.py:5: FutureWarning: Series.__getitem__ treating keys as positions is deprecated. In a future version, integer keys will always be treated as labels (consistent with DataFrame behavior). To access a value by position, use `ser.iloc[pos]`\n",
      "  underlying_price = yf.Ticker(ticker).history(period='1d')['Close'][0]\n"
     ]
    },
    {
     "data": {
      "text/plain": [
       "222.77999877929688"
      ]
     },
     "execution_count": 12,
     "metadata": {},
     "output_type": "execute_result"
    }
   ],
   "source": [
    "import yfinance as yf\n",
    "\n",
    "ticker = 'AAPL'\n",
    "\n",
    "underlying_price = yf.Ticker(ticker).history(period='1d')['Close'][0]\n",
    "\n",
    "underlying_price"
   ]
  },
  {
   "cell_type": "code",
   "execution_count": 34,
   "metadata": {},
   "outputs": [
    {
     "name": "stderr",
     "output_type": "stream",
     "text": [
      "C:\\Users\\wassim\\AppData\\Local\\Temp\\ipykernel_8080\\2738523388.py:4: FutureWarning: Series.__getitem__ treating keys as positions is deprecated. In a future version, integer keys will always be treated as labels (consistent with DataFrame behavior). To access a value by position, use `ser.iloc[pos]`\n",
      "  underlying_price = stock.history(period='1d')['Close'][0]\n"
     ]
    }
   ],
   "source": [
    "def fetch_ticker_data(ticker, strike_price, option_type):\n",
    "    \n",
    "    stock = yf.Ticker(ticker)\n",
    "    underlying_price = stock.history(period='1d')['Close'][0]\n",
    "    option_chain = stock.option_chain()\n",
    "    if option_type == 'call':\n",
    "        call_option = option_chain.calls[option_chain.calls['strike'] == strike_price]\n",
    "        option_price = call_option['lastPrice'].iloc[0]\n",
    "        \n",
    "    else:\n",
    "        put_option = option_chain.puts[option_chain.puts['strike'] == strike_price]\n",
    "        option_price = put_option['lastPrice'].iloc[0]\n",
    "        \n",
    "    return underlying_price, option_price\n",
    "\n",
    "underlying_price, option_price = fetch_ticker_data('AAPL', 230, 'call')"
   ]
  },
  {
   "cell_type": "code",
   "execution_count": 35,
   "metadata": {},
   "outputs": [
    {
     "name": "stdout",
     "output_type": "stream",
     "text": [
      "238.34500122070312 option_price:  9.25\n"
     ]
    }
   ],
   "source": [
    "print(underlying_price, 'option_price: ', option_price)"
   ]
  },
  {
   "cell_type": "code",
   "execution_count": 44,
   "metadata": {},
   "outputs": [
    {
     "name": "stderr",
     "output_type": "stream",
     "text": [
      "[*********************100%***********************]  1 of 1 completed\n"
     ]
    },
    {
     "data": {
      "text/plain": [
       "239.1699981689453"
      ]
     },
     "execution_count": 44,
     "metadata": {},
     "output_type": "execute_result"
    }
   ],
   "source": [
    "import yfinance as yf\n",
    "\n",
    "ticker = 'AAPL'\n",
    "\n",
    "price = yf.download(ticker, period='1d').iloc[-1]['Close']\n",
    "\n",
    "price"
   ]
  },
  {
   "cell_type": "code",
   "execution_count": 63,
   "metadata": {},
   "outputs": [
    {
     "name": "stdout",
     "output_type": "stream",
     "text": [
      "239.05799865722656 2026-01-16 32.5\n"
     ]
    }
   ],
   "source": [
    "from datetime import datetime, timedelta\n",
    "import yfinance as yf\n",
    "\n",
    "def fetch_option_price_and_closest_date(ticker, years_to_maturity, strike_price, option_type):\n",
    "    \"\"\"\n",
    "    Fetch the closest expiration date and the option price for the given ticker.\n",
    "\n",
    "    Args:\n",
    "    ticker (str): Ticker symbol (e.g., \"AAPL\").\n",
    "    years_to_maturity (int or float): Time to maturity in years.\n",
    "    strike_price (float): Strike price of the option.\n",
    "    option_type (str): \"call\" or \"put\".\n",
    "\n",
    "    Returns:\n",
    "    tuple: Underlying price (S), closest expiration date (str), option price (float).\n",
    "    \"\"\"\n",
    "    # Step 1: Calculate target expiration date\n",
    "    today = datetime.now()\n",
    "    target_date = today + timedelta(days=int(365 * years_to_maturity))\n",
    "\n",
    "    # Step 2: Fetch available expiration dates and find the closest one\n",
    "    stock = yf.Ticker(ticker)\n",
    "    available_expirations = stock.options\n",
    "\n",
    "    if not available_expirations:\n",
    "        raise ValueError(f\"No options available for ticker {ticker}\")\n",
    "\n",
    "    # Convert expiration dates to datetime and find the closest\n",
    "    available_dates = [datetime.strptime(date, \"%Y-%m-%d\") for date in available_expirations]\n",
    "    closest_date = min(available_dates, key=lambda x: abs(x - target_date))\n",
    "    closest_expiration_date = closest_date.strftime(\"%Y-%m-%d\")\n",
    "\n",
    "    # Step 3: Fetch option chain for the closest expiration date\n",
    "    option_chain = stock.option_chain(closest_expiration_date)\n",
    "\n",
    "    # Step 4: Extract the option price based on the strike price and option type\n",
    "    if option_type.lower() == \"call\":\n",
    "        options = option_chain.calls\n",
    "    elif option_type.lower() == \"put\":\n",
    "        options = option_chain.puts\n",
    "    else:\n",
    "        raise ValueError(\"Invalid option type. Use 'call' or 'put'.\")\n",
    "\n",
    "    # Find the row corresponding to the given strike price\n",
    "    option_row = options[options['strike'] == strike_price]\n",
    "    if option_row.empty:\n",
    "        raise ValueError(f\"No option found with strike price {strike_price} for expiration {closest_expiration_date}\")\n",
    "\n",
    "    # Extract the option price and underlying stock price\n",
    "    option_price = option_row['lastPrice'].values[0]\n",
    "    underlying_price = stock.history(period=\"1d\")['Close'].iloc[-1]\n",
    "\n",
    "    return underlying_price, closest_expiration_date, option_price\n",
    "\n",
    "\n",
    "underlying_price, closest_expiration_date, option_price = fetch_option_price_and_closest_date('AAPL', 1, 230, 'call')\n",
    "\n",
    "print(underlying_price, closest_expiration_date, option_price)"
   ]
  },
  {
   "cell_type": "code",
   "execution_count": 53,
   "metadata": {},
   "outputs": [
    {
     "data": {
      "text/html": [
       "<div>\n",
       "<style scoped>\n",
       "    .dataframe tbody tr th:only-of-type {\n",
       "        vertical-align: middle;\n",
       "    }\n",
       "\n",
       "    .dataframe tbody tr th {\n",
       "        vertical-align: top;\n",
       "    }\n",
       "\n",
       "    .dataframe thead th {\n",
       "        text-align: right;\n",
       "    }\n",
       "</style>\n",
       "<table border=\"1\" class=\"dataframe\">\n",
       "  <thead>\n",
       "    <tr style=\"text-align: right;\">\n",
       "      <th></th>\n",
       "      <th>contractSymbol</th>\n",
       "      <th>lastTradeDate</th>\n",
       "      <th>strike</th>\n",
       "      <th>lastPrice</th>\n",
       "      <th>bid</th>\n",
       "      <th>ask</th>\n",
       "      <th>change</th>\n",
       "      <th>percentChange</th>\n",
       "      <th>volume</th>\n",
       "      <th>openInterest</th>\n",
       "      <th>impliedVolatility</th>\n",
       "      <th>inTheMoney</th>\n",
       "      <th>contractSize</th>\n",
       "      <th>currency</th>\n",
       "    </tr>\n",
       "  </thead>\n",
       "  <tbody>\n",
       "    <tr>\n",
       "      <th>32</th>\n",
       "      <td>AAPL250131C00230000</td>\n",
       "      <td>2025-01-28 15:47:36+00:00</td>\n",
       "      <td>230.0</td>\n",
       "      <td>11.0</td>\n",
       "      <td>10.75</td>\n",
       "      <td>10.75</td>\n",
       "      <td>5.6</td>\n",
       "      <td>104.6729</td>\n",
       "      <td>17075.0</td>\n",
       "      <td>20428</td>\n",
       "      <td>0.504644</td>\n",
       "      <td>True</td>\n",
       "      <td>REGULAR</td>\n",
       "      <td>USD</td>\n",
       "    </tr>\n",
       "  </tbody>\n",
       "</table>\n",
       "</div>"
      ],
      "text/plain": [
       "         contractSymbol             lastTradeDate  strike  lastPrice    bid  \\\n",
       "32  AAPL250131C00230000 2025-01-28 15:47:36+00:00   230.0       11.0  10.75   \n",
       "\n",
       "      ask  change  percentChange   volume  openInterest  impliedVolatility  \\\n",
       "32  10.75     5.6       104.6729  17075.0         20428           0.504644   \n",
       "\n",
       "    inTheMoney contractSize currency  \n",
       "32        True      REGULAR      USD  "
      ]
     },
     "execution_count": 53,
     "metadata": {},
     "output_type": "execute_result"
    }
   ],
   "source": [
    "option_chain = yf.Ticker('AAPL').option_chain()\n",
    "option_chain.calls[option_chain.calls['strike']==230]"
   ]
  },
  {
   "cell_type": "code",
   "execution_count": 57,
   "metadata": {},
   "outputs": [
    {
     "data": {
      "text/plain": [
       "'2026-01-16'"
      ]
     },
     "execution_count": 57,
     "metadata": {},
     "output_type": "execute_result"
    }
   ],
   "source": [
    "closest_expiration_date"
   ]
  },
  {
   "cell_type": "code",
   "execution_count": 61,
   "metadata": {},
   "outputs": [
    {
     "data": {
      "text/html": [
       "<div>\n",
       "<style scoped>\n",
       "    .dataframe tbody tr th:only-of-type {\n",
       "        vertical-align: middle;\n",
       "    }\n",
       "\n",
       "    .dataframe tbody tr th {\n",
       "        vertical-align: top;\n",
       "    }\n",
       "\n",
       "    .dataframe thead th {\n",
       "        text-align: right;\n",
       "    }\n",
       "</style>\n",
       "<table border=\"1\" class=\"dataframe\">\n",
       "  <thead>\n",
       "    <tr style=\"text-align: right;\">\n",
       "      <th></th>\n",
       "      <th>contractSymbol</th>\n",
       "      <th>lastTradeDate</th>\n",
       "      <th>strike</th>\n",
       "      <th>lastPrice</th>\n",
       "      <th>bid</th>\n",
       "      <th>ask</th>\n",
       "      <th>change</th>\n",
       "      <th>percentChange</th>\n",
       "      <th>volume</th>\n",
       "      <th>openInterest</th>\n",
       "      <th>impliedVolatility</th>\n",
       "      <th>inTheMoney</th>\n",
       "      <th>contractSize</th>\n",
       "      <th>currency</th>\n",
       "    </tr>\n",
       "  </thead>\n",
       "  <tbody>\n",
       "    <tr>\n",
       "      <th>44</th>\n",
       "      <td>AAPL260116C00230000</td>\n",
       "      <td>2025-01-28 15:47:11+00:00</td>\n",
       "      <td>230.0</td>\n",
       "      <td>32.26</td>\n",
       "      <td>32.1</td>\n",
       "      <td>32.45</td>\n",
       "      <td>6.259998</td>\n",
       "      <td>24.076916</td>\n",
       "      <td>192.0</td>\n",
       "      <td>9016</td>\n",
       "      <td>0.299735</td>\n",
       "      <td>True</td>\n",
       "      <td>REGULAR</td>\n",
       "      <td>USD</td>\n",
       "    </tr>\n",
       "  </tbody>\n",
       "</table>\n",
       "</div>"
      ],
      "text/plain": [
       "         contractSymbol             lastTradeDate  strike  lastPrice   bid  \\\n",
       "44  AAPL260116C00230000 2025-01-28 15:47:11+00:00   230.0      32.26  32.1   \n",
       "\n",
       "      ask    change  percentChange  volume  openInterest  impliedVolatility  \\\n",
       "44  32.45  6.259998      24.076916   192.0          9016           0.299735   \n",
       "\n",
       "    inTheMoney contractSize currency  \n",
       "44        True      REGULAR      USD  "
      ]
     },
     "execution_count": 61,
     "metadata": {},
     "output_type": "execute_result"
    }
   ],
   "source": [
    "data = yf.Ticker('AAPL').option_chain(closest_expiration_date).calls\n",
    "\n",
    "df = data[data['strike'] == 230]\n",
    "df"
   ]
  },
  {
   "cell_type": "code",
   "execution_count": 65,
   "metadata": {},
   "outputs": [],
   "source": [
    "exp_date = datetime.now() + timedelta(days=int(365 * 1))\n",
    "\n",
    "exp_date = exp_date.strftime('%Y-%m-%d')"
   ]
  },
  {
   "cell_type": "code",
   "execution_count": 66,
   "metadata": {},
   "outputs": [
    {
     "data": {
      "text/plain": [
       "'2026-01-28'"
      ]
     },
     "execution_count": 66,
     "metadata": {},
     "output_type": "execute_result"
    }
   ],
   "source": [
    "exp_date"
   ]
  },
  {
   "cell_type": "code",
   "execution_count": 12,
   "metadata": {},
   "outputs": [
    {
     "name": "stdout",
     "output_type": "stream",
     "text": [
      "European Call Option Price (MCMC): 173.2372\n"
     ]
    },
    {
     "data": {
      "image/png": "[encoded data removed]",
      "text/plain": [
       "<Figure size 640x480 with 1 Axes>"
      ]
     },
     "metadata": {},
     "output_type": "display_data"
    },
    {
     "data": {
      "image/png": "[encoded data removed]",
      "text/plain": [
       "<Figure size 640x480 with 1 Axes>"
      ]
     },
     "metadata": {},
     "output_type": "display_data"
    }
   ],
   "source": [
    "import numpy as np\n",
    "import matplotlib.pyplot as plt\n",
    "\n",
    "# Parameters\n",
    "S0 = 398.09  # Initial stock price\n",
    "K = 240  # Strike price\n",
    "T = 1     # Time to maturity (1 year)\n",
    "r = 0.05  # Risk-free rate\n",
    "sigma = 0.2  # Volatility\n",
    "n_samples = 50000  # Number of MCMC samples\n",
    "\n",
    "# Target distribution: Log-normal risk-neutral terminal price distribution\n",
    "def target_distribution(S_T):\n",
    "    mean = np.log(S0) + (r - 0.5 * sigma**2) * T\n",
    "    std_dev = sigma * np.sqrt(T)\n",
    "    return np.exp(- (np.log(S_T) - mean) ** 2 / (2 * std_dev ** 2)) / (S_T * std_dev * np.sqrt(2 * np.pi))\n",
    "\n",
    "# MCMC Sampling for terminal prices\n",
    "S_T_samples = []\n",
    "S_T_current = S0 * np.exp((r - 0.5 * sigma**2) * T + sigma * np.sqrt(T) * np.random.normal())  # Initialize\n",
    "\n",
    "# Proposal distribution standard deviation (tuning parameter)\n",
    "proposal_std = 10.0  # Adjust this to control the step size\n",
    "\n",
    "for _ in range(n_samples):\n",
    "    # Propose new terminal price\n",
    "    S_T_new = S_T_current + proposal_std * np.random.normal()\n",
    "    \n",
    "    # Ensure S_T_new is positive (since stock prices cannot be negative)\n",
    "    if S_T_new <= 0:\n",
    "        S_T_samples.append(S_T_current)\n",
    "        continue\n",
    "    \n",
    "    # Acceptance ratio\n",
    "    acceptance_ratio = min(1, target_distribution(S_T_new) / target_distribution(S_T_current))\n",
    "    \n",
    "    if np.random.rand() < acceptance_ratio:\n",
    "        S_T_current = S_T_new  # Accept move\n",
    "    \n",
    "    S_T_samples.append(S_T_current)\n",
    "\n",
    "# Convert to array\n",
    "S_T_samples = np.array(S_T_samples)\n",
    "\n",
    "# Compute option price using terminal prices\n",
    "payoffs = np.maximum(S_T_samples - K, 0)\n",
    "option_price = np.exp(-r * T) * np.mean(payoffs)\n",
    "\n",
    "print(f\"European Call Option Price (MCMC): {option_price:.4f}\")\n",
    "\n",
    "\n",
    "plt.plot(S_T_samples)\n",
    "plt.axhline(y=S_T_samples[-1], color='r', linestyle='--', label=f\"{S_T_samples[-1]:.2f}\")\n",
    "plt.legend(loc='best')\n",
    "plt.show()\n",
    "# Plot histogram of terminal prices\n",
    "plt.hist(S_T_samples, bins=50, density=True, alpha=0.6, color='g', label=\"Sampled Terminal Prices\")\n",
    "plt.xlabel(\"Terminal Stock Price ($S_T$)\")\n",
    "plt.ylabel(\"Density\")\n",
    "plt.title(\"Distribution of Terminal Stock Prices\")\n",
    "plt.grid(True)\n",
    "plt.legend()\n",
    "plt.show()"
   ]
  },
  {
   "cell_type": "code",
   "execution_count": 13,
   "metadata": {},
   "outputs": [
    {
     "data": {
      "text/plain": [
       "<Figure size 1200x600 with 0 Axes>"
      ]
     },
     "metadata": {},
     "output_type": "display_data"
    },
    {
     "data": {
      "image/png": "[encoded data removed]",
      "text/plain": [
       "<Figure size 640x480 with 1 Axes>"
      ]
     },
     "metadata": {},
     "output_type": "display_data"
    },
    {
     "data": {
      "text/plain": [
       "<Figure size 1200x600 with 0 Axes>"
      ]
     },
     "metadata": {},
     "output_type": "display_data"
    },
    {
     "data": {
      "image/png": "[encoded data removed]",
      "text/plain": [
       "<Figure size 640x480 with 1 Axes>"
      ]
     },
     "metadata": {},
     "output_type": "display_data"
    }
   ],
   "source": [
    "import numpy as np\n",
    "import matplotlib.pyplot as plt\n",
    "from statsmodels.graphics.tsaplots import plot_acf, plot_pacf\n",
    "\n",
    "# Example: Simulated MCMC samples (replace this with your actual MCMC output)\n",
    "\n",
    "# Plot ACF\n",
    "plt.figure(figsize=(12, 6))\n",
    "plot_acf(S_T_samples, lags=50, title=\"Autocorrelation Function (ACF)\", zero=True, alpha=0.05)\n",
    "plt.xlabel(\"Lag\")\n",
    "plt.ylabel(\"Autocorrelation\")\n",
    "plt.grid(True, linestyle='--', alpha=0.6)\n",
    "\n",
    "# Plot PACF\n",
    "plt.figure(figsize=(12, 6))\n",
    "plot_pacf(S_T_samples, lags=150, title=\"Partial Autocorrelation Function (PACF)\", zero=True, alpha=0.05)\n",
    "plt.xlabel(\"Lag\")\n",
    "plt.ylabel(\"Partial Autocorrelation\")\n",
    "plt.grid(True, linestyle='--', alpha=0.6)\n",
    "\n",
    "# Show plots\n",
    "plt.show()"
   ]
  },
  {
   "cell_type": "code",
   "execution_count": null,
   "metadata": {},
   "outputs": [],
   "source": [
    "import numpy as np\n",
    "\n",
    "def control_variates_monte_carlo(self, num_paths, num_steps):\n",
    "    \n",
    "    \"\"\"\n",
    "    Calculate the price of European options using the Monte Carlo method with control variates.\n",
    "\n",
    "    Parameters:\n",
    "    num_paths : int\n",
    "        Number of Monte Carlo paths to simulate.\n",
    "    num_steps : int\n",
    "        Number of time steps for each path.\n",
    "\n",
    "    Returns:\n",
    "    tuple\n",
    "        A tuple containing the option price and a 2D numpy array of generated paths.\n",
    "    \"\"\"\n",
    "\n",
    "    dt = self.T / num_steps\n",
    "    paths = np.zeros((num_paths, num_steps+1))\n",
    "    paths[:, 0] = self.S\n",
    "    \n",
    "    for i in range(num_paths):\n",
    "      for j in range(1, num_steps+1):\n",
    "        Z = np.random.normal()\n",
    "        paths[i, j] = paths[i, j-1] * np.exp((self.r - 0.5 * self.sigma**2) * dt + self.sigma * sqrt(dt) * Z)\n",
    "        \n",
    "    if self.option_type == 'call':\n",
    "      payoff = np.maximum(paths[:, -1] - self.K, 0)\n",
    "    else:\n",
    "      payoff = np.maximum(self.K - paths[:, -1], 0)\n",
    "    \n",
    "    price = np.exp(-self.r * self.T) * np.mean(payoff)\n",
    "    \n",
    "    cov_Y_MC = np.cov(price, paths[:, -1])[0, 1] # Covariance between discounted payoff and terminal asset price\n",
    "    var_MC = np.var(paths[:, -1]) # Variance of terminal asset price\n",
    "    lambda_star = cov_Y_MC / var_MC # Optimal lambda for control variates\n",
    "    control_variates_adjustment = price - lambda_star * (paths[:, -1] - np.mean(paths[:, -1])) # Adjusted price using control variates\n",
    "    \n",
    "    MC_control_variates_price = np.exp(-self.r * self.T) * np.mean(control_variates_adjustment)\n",
    "    \n",
    "    return MC_control_variates_price, paths\n",
    "\n",
    "price, paths = control_variates_monte_carlo"
   ]
  },
  {
   "cell_type": "code",
   "execution_count": 84,
   "metadata": {},
   "outputs": [
    {
     "name": "stdout",
     "output_type": "stream",
     "text": [
      "10.460466126709832\n"
     ]
    }
   ],
   "source": [
    "import numpy as np\n",
    "from math import sqrt\n",
    "\n",
    "def euler_maruyama(S, K, T, r, sigma, num_paths, num_steps, option_type='call'):\n",
    "    \n",
    "    dt = T / num_steps\n",
    "    paths = np.zeros((num_paths, num_steps+1))\n",
    "    paths[:, 0] = S\n",
    "    \n",
    "    for i in range(num_paths):\n",
    "      for j in range(1, num_steps+1):\n",
    "        Z = np.random.normal()\n",
    "        paths[i, j] = paths[i, j-1] * np.exp((r - 0.5 * sigma**2) * dt + sigma * sqrt(dt) * Z)\n",
    "        \n",
    "    if option_type == 'call':\n",
    "      payoff = np.maximum(paths[:, -1] - K, 0)\n",
    "    else:\n",
    "      payoff = np.maximum(K - paths[:, -1], 0)\n",
    "    \n",
    "    price = np.exp(-r * T) * np.mean(payoff)\n",
    "    \n",
    "    return price, paths\n",
    "\n",
    "S = 100\n",
    "K = 100\n",
    "T = 1\n",
    "r = 0.05\n",
    "sigma = 0.2\n",
    "num_paths = 100000\n",
    "num_steps = 100\n",
    "option_type = 'call'\n",
    "\n",
    "price, paths = euler_maruyama(S, K, T, r, sigma, num_paths, num_steps, 'call')\n",
    "\n",
    "print(price)"
   ]
  },
  {
   "cell_type": "code",
   "execution_count": 83,
   "metadata": {},
   "outputs": [
    {
     "name": "stdout",
     "output_type": "stream",
     "text": [
      "10.497627306467118\n"
     ]
    }
   ],
   "source": [
    "import numpy as np\n",
    "\n",
    "S0 = 100\n",
    "K = 100\n",
    "T = 1\n",
    "r = 0.05\n",
    "sigma = 0.2\n",
    "num_steps = 252\n",
    "num_paths = 100000\n",
    "dt = T / num_steps\n",
    "\n",
    "W = np.random.normal(0, np.sqrt(dt), size=(num_paths, num_steps))\n",
    "W = np.cumsum(W, axis=1)  # Mouvement Brownien cumulé\n",
    "\n",
    "t = np.linspace(0, T, num_steps)\n",
    "S = S0 * np.exp((r - 0.5 * sigma**2) * t + sigma * W)\n",
    "\n",
    "payoff = np.maximum(S[:,-1] - K, 0)\n",
    "price2 = np.exp(-r * T) * np.mean(payoff)\n",
    "\n",
    "print(price2)\n"
   ]
  },
  {
   "cell_type": "code",
   "execution_count": 2,
   "metadata": {},
   "outputs": [
    {
     "name": "stderr",
     "output_type": "stream",
     "text": [
      "[*********************100%***********************]  1 of 1 completed\n"
     ]
    },
    {
     "data": {
      "text/plain": [
       "Ticker\n",
       "^SPX    6013.129883\n",
       "Name: 2025-02-21 00:00:00, dtype: float64"
      ]
     },
     "execution_count": 2,
     "metadata": {},
     "output_type": "execute_result"
    }
   ],
   "source": [
    "import yfinance as yf\n",
    "\n",
    "yf.download('^SPX', period='1d').iloc[-1]['Close']"
   ]
  },
  {
   "cell_type": "code",
   "execution_count": 8,
   "metadata": {},
   "outputs": [
    {
     "name": "stderr",
     "output_type": "stream",
     "text": [
      "$AAPL: possibly delisted; no price data found  (period=1d)\n",
      "C:\\Users\\wassim\\AppData\\Local\\Temp\\ipykernel_2672\\2541020452.py:8: FutureWarning: Series.__getitem__ treating keys as positions is deprecated. In a future version, integer keys will always be treated as labels (consistent with DataFrame behavior). To access a value by position, use `ser.iloc[pos]`\n",
      "  underlying_price = ticker.history(period='1d')['Close'][0]\n"
     ]
    },
    {
     "ename": "IndexError",
     "evalue": "index 0 is out of bounds for axis 0 with size 0",
     "output_type": "error",
     "traceback": [
      "\u001b[1;31m---------------------------------------------------------------------------\u001b[0m",
      "\u001b[1;31mIndexError\u001b[0m                                Traceback (most recent call last)",
      "Cell \u001b[1;32mIn[8], line 8\u001b[0m\n\u001b[0;32m      4\u001b[0m name \u001b[38;5;241m=\u001b[39m \u001b[38;5;124m'\u001b[39m\u001b[38;5;124mAAPL\u001b[39m\u001b[38;5;124m'\u001b[39m\n\u001b[0;32m      6\u001b[0m ticker \u001b[38;5;241m=\u001b[39m yf\u001b[38;5;241m.\u001b[39mTicker(name)\n\u001b[1;32m----> 8\u001b[0m underlying_price \u001b[38;5;241m=\u001b[39m \u001b[43mticker\u001b[49m\u001b[38;5;241;43m.\u001b[39;49m\u001b[43mhistory\u001b[49m\u001b[43m(\u001b[49m\u001b[43mperiod\u001b[49m\u001b[38;5;241;43m=\u001b[39;49m\u001b[38;5;124;43m'\u001b[39;49m\u001b[38;5;124;43m1d\u001b[39;49m\u001b[38;5;124;43m'\u001b[39;49m\u001b[43m)\u001b[49m\u001b[43m[\u001b[49m\u001b[38;5;124;43m'\u001b[39;49m\u001b[38;5;124;43mClose\u001b[39;49m\u001b[38;5;124;43m'\u001b[39;49m\u001b[43m]\u001b[49m\u001b[43m[\u001b[49m\u001b[38;5;241;43m0\u001b[39;49m\u001b[43m]\u001b[49m\n\u001b[0;32m     10\u001b[0m option_chain \u001b[38;5;241m=\u001b[39m ticker\u001b[38;5;241m.\u001b[39moption_chain(ticker\u001b[38;5;241m.\u001b[39moptions[\u001b[38;5;241m-\u001b[39m\u001b[38;5;241m5\u001b[39m])\n\u001b[0;32m     12\u001b[0m option_chain\u001b[38;5;241m.\u001b[39mcalls\n",
      "File \u001b[1;32mc:\\Users\\wassim\\AppData\\Local\\Programs\\Python\\Python312\\Lib\\site-packages\\pandas\\core\\series.py:1118\u001b[0m, in \u001b[0;36mSeries.__getitem__\u001b[1;34m(self, key)\u001b[0m\n\u001b[0;32m   1108\u001b[0m \u001b[38;5;28;01mif\u001b[39;00m is_integer(key) \u001b[38;5;129;01mand\u001b[39;00m \u001b[38;5;28mself\u001b[39m\u001b[38;5;241m.\u001b[39mindex\u001b[38;5;241m.\u001b[39m_should_fallback_to_positional:\n\u001b[0;32m   1109\u001b[0m     warnings\u001b[38;5;241m.\u001b[39mwarn(\n\u001b[0;32m   1110\u001b[0m         \u001b[38;5;66;03m# GH#50617\u001b[39;00m\n\u001b[0;32m   1111\u001b[0m         \u001b[38;5;124m\"\u001b[39m\u001b[38;5;124mSeries.__getitem__ treating keys as positions is deprecated. \u001b[39m\u001b[38;5;124m\"\u001b[39m\n\u001b[1;32m   (...)\u001b[0m\n\u001b[0;32m   1116\u001b[0m         stacklevel\u001b[38;5;241m=\u001b[39mfind_stack_level(),\n\u001b[0;32m   1117\u001b[0m     )\n\u001b[1;32m-> 1118\u001b[0m     \u001b[38;5;28;01mreturn\u001b[39;00m \u001b[38;5;28;43mself\u001b[39;49m\u001b[38;5;241;43m.\u001b[39;49m\u001b[43m_values\u001b[49m\u001b[43m[\u001b[49m\u001b[43mkey\u001b[49m\u001b[43m]\u001b[49m\n\u001b[0;32m   1120\u001b[0m \u001b[38;5;28;01melif\u001b[39;00m key_is_scalar:\n\u001b[0;32m   1121\u001b[0m     \u001b[38;5;28;01mreturn\u001b[39;00m \u001b[38;5;28mself\u001b[39m\u001b[38;5;241m.\u001b[39m_get_value(key)\n",
      "\u001b[1;31mIndexError\u001b[0m: index 0 is out of bounds for axis 0 with size 0"
     ]
    }
   ],
   "source": [
    "import yfinance as yf\n",
    "\n",
    "\n",
    "name = 'AAPL'\n",
    "\n",
    "ticker = yf.Ticker(name)\n",
    "\n",
    "underlying_price = ticker.history(period='1d')['Close'][0]\n",
    "\n",
    "option_chain = ticker.option_chain(ticker.options[-5])\n",
    "\n",
    "option_chain.calls"
   ]
  },
  {
   "cell_type": "code",
   "execution_count": 7,
   "metadata": {},
   "outputs": [
    {
     "data": {
      "text/plain": [
       "'96488345fc1c4484515b300b6f3055ed53dde4f3587abc56'"
      ]
     },
     "execution_count": 7,
     "metadata": {},
     "output_type": "execute_result"
    }
   ],
   "source": [
    "import os\n",
    "\n",
    "os.urandom(24).hex()"
   ]
  },
  {
   "cell_type": "code",
   "execution_count": 7,
   "metadata": {},
   "outputs": [
    {
     "data": {
      "text/plain": [
       "250.0"
      ]
     },
     "execution_count": 7,
     "metadata": {},
     "output_type": "execute_result"
    }
   ],
   "source": [
    "import numpy as np\n",
    "K = 250\n",
    "K_range = np.linspace(0.50 * K, 1.50 * K, 100)\n",
    "K_range[-1]/1.50"
   ]
  }
 ],
 "metadata": {
  "kernelspec": {
   "display_name": "Python 3",
   "language": "python",
   "name": "python3"
  },
  "language_info": {
   "codemirror_mode": {
    "name": "ipython",
    "version": 3
   },
   "file_extension": ".py",
   "mimetype": "text/x-python",
   "name": "python",
   "nbconvert_exporter": "python",
   "pygments_lexer": "ipython3",
   "version": "3.12.3"
  }
 },
 "nbformat": 4,
 "nbformat_minor": 2
}
